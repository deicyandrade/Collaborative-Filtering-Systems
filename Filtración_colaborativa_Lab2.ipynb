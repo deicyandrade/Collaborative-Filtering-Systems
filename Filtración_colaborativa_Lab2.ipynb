{
  "cells": [
    {
      "cell_type": "markdown",
      "source": [
        "#Filtración colaborativa \n"
      ],
      "metadata": {
        "id": "OTbLmI4_3PPq"
      },
      "id": "OTbLmI4_3PPq"
    },
    {
      "cell_type": "markdown",
      "source": [
        "\n",
        "Para realizar Sistemas de Filtrado Colaborativo se requieren de algunas librerías, y una de ellas es pandas, la cual se especializa en el análisis y manejo de estructura de datos. La librería numpy permite realizar cálculo numérico y el análisis de datos, especialmente para un gran volumen de datos. Con cosine_similarity se puede calcular la similitud de coseno entre muestras en X e Y.  La función csr_matrix es utilizada para crear una matriz dispersa de formato de fila dispersa comprimida . La svds en cambio se refiere a la descomposición de valores singulares de una matriz dispersa. La librería train_test_split permite dividir un dataset en dos bloques, típicamente bloques destinados al entrenamiento y validación del modelo. Y otras librerías más que son de utilidad para realizar filtrado colaborativo "
      ],
      "metadata": {
        "id": "meSFlepA4OnB"
      },
      "id": "meSFlepA4OnB"
    },
    {
      "cell_type": "code",
      "execution_count": null,
      "id": "424ae56b",
      "metadata": {
        "id": "424ae56b"
      },
      "outputs": [],
      "source": [
        "#cargar librerías\n",
        "import pandas as pd\n",
        "import numpy as np\n",
        "\n",
        "#Permite calcular la similitud del coseno entre las muestras en X e Y.\n",
        "from sklearn.metrics.pairwise import cosine_similarity\n",
        "\n",
        "#Crear una matriz dispersa de formato de fila dispersa comprimida\n",
        "from scipy.sparse import csr_matrix\n",
        "\n",
        "#Descomposición parcial en valores singulares de una matriz dispersa.\n",
        "from scipy.sparse.linalg import svds\n",
        "\n",
        "#Dividir un dataset en dos bloques\n",
        "from surprise.model_selection import train_test_split\n",
        "from surprise import KNNWithMeans, Dataset, accuracy, Reader\n"
      ]
    },
    {
      "cell_type": "markdown",
      "source": [
        "Una vez realizados todas los import necesario, se declara una variable para que guarde el conjunto del data y cada vez que se realice una mención de la variable PATH se obtenga el \"data.csv\" "
      ],
      "metadata": {
        "id": "5ONyvDC5UTV3"
      },
      "id": "5ONyvDC5UTV3"
    },
    {
      "cell_type": "code",
      "execution_count": null,
      "id": "65eb05b2",
      "metadata": {
        "id": "65eb05b2"
      },
      "outputs": [],
      "source": [
        "# constante para guardar los datos del Dataset\n",
        "PATH = 'data.csv'"
      ]
    },
    {
      "cell_type": "markdown",
      "id": "ba767811",
      "metadata": {
        "id": "ba767811"
      },
      "source": [
        "# Datos de importacion"
      ]
    },
    {
      "cell_type": "markdown",
      "source": [
        "Se realiza la lectura del dataset y con el “df.shape” se obtiene una tupla con el número de filas y columnas del DataFrame df"
      ],
      "metadata": {
        "id": "dyWrren2VVWB"
      },
      "id": "dyWrren2VVWB"
    },
    {
      "cell_type": "code",
      "execution_count": null,
      "id": "d1a05ffb",
      "metadata": {
        "colab": {
          "base_uri": "https://localhost:8080/"
        },
        "id": "d1a05ffb",
        "outputId": "ef4f9fdf-9319-4a62-f53d-4be7f9a73b57"
      },
      "outputs": [
        {
          "output_type": "execute_result",
          "data": {
            "text/plain": [
              "(100000, 10)"
            ]
          },
          "metadata": {},
          "execution_count": 4
        }
      ],
      "source": [
        "#leer los datos del Dataset\n",
        "df = pd.read_csv(PATH)\n",
        "df.shape"
      ]
    },
    {
      "cell_type": "code",
      "execution_count": null,
      "id": "5aaf9ee7",
      "metadata": {
        "colab": {
          "base_uri": "https://localhost:8080/",
          "height": 250
        },
        "id": "5aaf9ee7",
        "outputId": "3e8341a3-a6af-4080-e033-79dd255778fb"
      },
      "outputs": [
        {
          "output_type": "execute_result",
          "data": {
            "text/html": [
              "\n",
              "  <div id=\"df-40ca88df-0487-441a-a276-4d84f3a942f7\">\n",
              "    <div class=\"colab-df-container\">\n",
              "      <div>\n",
              "<style scoped>\n",
              "    .dataframe tbody tr th:only-of-type {\n",
              "        vertical-align: middle;\n",
              "    }\n",
              "\n",
              "    .dataframe tbody tr th {\n",
              "        vertical-align: top;\n",
              "    }\n",
              "\n",
              "    .dataframe thead th {\n",
              "        text-align: right;\n",
              "    }\n",
              "</style>\n",
              "<table border=\"1\" class=\"dataframe\">\n",
              "  <thead>\n",
              "    <tr style=\"text-align: right;\">\n",
              "      <th></th>\n",
              "      <th>book_id</th>\n",
              "      <th>author_id</th>\n",
              "      <th>book_genre</th>\n",
              "      <th>reader_id</th>\n",
              "      <th>num_pages</th>\n",
              "      <th>book_rating</th>\n",
              "      <th>publisher_id</th>\n",
              "      <th>publish_year</th>\n",
              "      <th>book_price</th>\n",
              "      <th>text_lang</th>\n",
              "    </tr>\n",
              "  </thead>\n",
              "  <tbody>\n",
              "    <tr>\n",
              "      <th>0</th>\n",
              "      <td>655</td>\n",
              "      <td>52</td>\n",
              "      <td>4</td>\n",
              "      <td>11482</td>\n",
              "      <td>300</td>\n",
              "      <td>4</td>\n",
              "      <td>8</td>\n",
              "      <td>2012</td>\n",
              "      <td>94</td>\n",
              "      <td>7</td>\n",
              "    </tr>\n",
              "    <tr>\n",
              "      <th>1</th>\n",
              "      <td>2713</td>\n",
              "      <td>90</td>\n",
              "      <td>3</td>\n",
              "      <td>6479</td>\n",
              "      <td>469</td>\n",
              "      <td>1</td>\n",
              "      <td>8</td>\n",
              "      <td>2012</td>\n",
              "      <td>33</td>\n",
              "      <td>5</td>\n",
              "    </tr>\n",
              "    <tr>\n",
              "      <th>2</th>\n",
              "      <td>409</td>\n",
              "      <td>17</td>\n",
              "      <td>2</td>\n",
              "      <td>25472</td>\n",
              "      <td>435</td>\n",
              "      <td>1</td>\n",
              "      <td>12</td>\n",
              "      <td>2001</td>\n",
              "      <td>196</td>\n",
              "      <td>4</td>\n",
              "    </tr>\n",
              "    <tr>\n",
              "      <th>3</th>\n",
              "      <td>1150</td>\n",
              "      <td>234</td>\n",
              "      <td>10</td>\n",
              "      <td>23950</td>\n",
              "      <td>529</td>\n",
              "      <td>2</td>\n",
              "      <td>23</td>\n",
              "      <td>2019</td>\n",
              "      <td>79</td>\n",
              "      <td>2</td>\n",
              "    </tr>\n",
              "    <tr>\n",
              "      <th>4</th>\n",
              "      <td>2424</td>\n",
              "      <td>390</td>\n",
              "      <td>5</td>\n",
              "      <td>13046</td>\n",
              "      <td>395</td>\n",
              "      <td>2</td>\n",
              "      <td>20</td>\n",
              "      <td>2010</td>\n",
              "      <td>200</td>\n",
              "      <td>4</td>\n",
              "    </tr>\n",
              "  </tbody>\n",
              "</table>\n",
              "</div>\n",
              "      <button class=\"colab-df-convert\" onclick=\"convertToInteractive('df-40ca88df-0487-441a-a276-4d84f3a942f7')\"\n",
              "              title=\"Convert this dataframe to an interactive table.\"\n",
              "              style=\"display:none;\">\n",
              "        \n",
              "  <svg xmlns=\"http://www.w3.org/2000/svg\" height=\"24px\"viewBox=\"0 0 24 24\"\n",
              "       width=\"24px\">\n",
              "    <path d=\"M0 0h24v24H0V0z\" fill=\"none\"/>\n",
              "    <path d=\"M18.56 5.44l.94 2.06.94-2.06 2.06-.94-2.06-.94-.94-2.06-.94 2.06-2.06.94zm-11 1L8.5 8.5l.94-2.06 2.06-.94-2.06-.94L8.5 2.5l-.94 2.06-2.06.94zm10 10l.94 2.06.94-2.06 2.06-.94-2.06-.94-.94-2.06-.94 2.06-2.06.94z\"/><path d=\"M17.41 7.96l-1.37-1.37c-.4-.4-.92-.59-1.43-.59-.52 0-1.04.2-1.43.59L10.3 9.45l-7.72 7.72c-.78.78-.78 2.05 0 2.83L4 21.41c.39.39.9.59 1.41.59.51 0 1.02-.2 1.41-.59l7.78-7.78 2.81-2.81c.8-.78.8-2.07 0-2.86zM5.41 20L4 18.59l7.72-7.72 1.47 1.35L5.41 20z\"/>\n",
              "  </svg>\n",
              "      </button>\n",
              "      \n",
              "  <style>\n",
              "    .colab-df-container {\n",
              "      display:flex;\n",
              "      flex-wrap:wrap;\n",
              "      gap: 12px;\n",
              "    }\n",
              "\n",
              "    .colab-df-convert {\n",
              "      background-color: #E8F0FE;\n",
              "      border: none;\n",
              "      border-radius: 50%;\n",
              "      cursor: pointer;\n",
              "      display: none;\n",
              "      fill: #1967D2;\n",
              "      height: 32px;\n",
              "      padding: 0 0 0 0;\n",
              "      width: 32px;\n",
              "    }\n",
              "\n",
              "    .colab-df-convert:hover {\n",
              "      background-color: #E2EBFA;\n",
              "      box-shadow: 0px 1px 2px rgba(60, 64, 67, 0.3), 0px 1px 3px 1px rgba(60, 64, 67, 0.15);\n",
              "      fill: #174EA6;\n",
              "    }\n",
              "\n",
              "    [theme=dark] .colab-df-convert {\n",
              "      background-color: #3B4455;\n",
              "      fill: #D2E3FC;\n",
              "    }\n",
              "\n",
              "    [theme=dark] .colab-df-convert:hover {\n",
              "      background-color: #434B5C;\n",
              "      box-shadow: 0px 1px 3px 1px rgba(0, 0, 0, 0.15);\n",
              "      filter: drop-shadow(0px 1px 2px rgba(0, 0, 0, 0.3));\n",
              "      fill: #FFFFFF;\n",
              "    }\n",
              "  </style>\n",
              "\n",
              "      <script>\n",
              "        const buttonEl =\n",
              "          document.querySelector('#df-40ca88df-0487-441a-a276-4d84f3a942f7 button.colab-df-convert');\n",
              "        buttonEl.style.display =\n",
              "          google.colab.kernel.accessAllowed ? 'block' : 'none';\n",
              "\n",
              "        async function convertToInteractive(key) {\n",
              "          const element = document.querySelector('#df-40ca88df-0487-441a-a276-4d84f3a942f7');\n",
              "          const dataTable =\n",
              "            await google.colab.kernel.invokeFunction('convertToInteractive',\n",
              "                                                     [key], {});\n",
              "          if (!dataTable) return;\n",
              "\n",
              "          const docLinkHtml = 'Like what you see? Visit the ' +\n",
              "            '<a target=\"_blank\" href=https://colab.research.google.com/notebooks/data_table.ipynb>data table notebook</a>'\n",
              "            + ' to learn more about interactive tables.';\n",
              "          element.innerHTML = '';\n",
              "          dataTable['output_type'] = 'display_data';\n",
              "          await google.colab.output.renderOutput(dataTable, element);\n",
              "          const docLink = document.createElement('div');\n",
              "          docLink.innerHTML = docLinkHtml;\n",
              "          element.appendChild(docLink);\n",
              "        }\n",
              "      </script>\n",
              "    </div>\n",
              "  </div>\n",
              "  "
            ],
            "text/plain": [
              "   book_id  author_id  book_genre  ...  publish_year  book_price  text_lang\n",
              "0      655         52           4  ...          2012          94          7\n",
              "1     2713         90           3  ...          2012          33          5\n",
              "2      409         17           2  ...          2001         196          4\n",
              "3     1150        234          10  ...          2019          79          2\n",
              "4     2424        390           5  ...          2010         200          4\n",
              "\n",
              "[5 rows x 10 columns]"
            ]
          },
          "metadata": {},
          "execution_count": 5
        }
      ],
      "source": [
        "#Devuelve los primeros elementos de la estructura\n",
        "df.head()"
      ]
    },
    {
      "cell_type": "markdown",
      "source": [
        "Para realizar el Filtrado colaborativo se puede clasificar en tres métodos, los cuales son: basados en elementos, usuarios e híbridas. A continuación se explica cada una de ellas."
      ],
      "metadata": {
        "id": "z28Nvg6QXHNz"
      },
      "id": "z28Nvg6QXHNz"
    },
    {
      "cell_type": "markdown",
      "id": "ea984ed9",
      "metadata": {
        "id": "ea984ed9"
      },
      "source": [
        "# Método 1 - basado en elementos"
      ]
    },
    {
      "cell_type": "markdown",
      "source": [
        "Este método se recomienda en base a los basan en elementos como los ratings de ítems realizados por otros usuarios en el sistema. Y para realizar este método primero se genera una tabla dinámica con \"reader_id\" en el index, \"book_id\" en la columna y los valores vendrían siendo los \"book_rating\" que son las calificaciones. Después se crea una matriz dispersa con formato de fila dispersa comprimida con la función \"csr_matriz\""
      ],
      "metadata": {
        "id": "ZKwCNXBQXFEw"
      },
      "id": "ZKwCNXBQXFEw"
    },
    {
      "cell_type": "code",
      "execution_count": null,
      "id": "e4d30a66",
      "metadata": {
        "id": "e4d30a66"
      },
      "outputs": [],
      "source": [
        "# Genere una tabla dinámica.\n",
        "pt_df = df.pivot_table(\n",
        "    columns = 'book_id',\n",
        "    index = 'reader_id',\n",
        "    values = 'book_rating'\n",
        ").fillna(0)\n",
        "\n",
        "# convertir a una matriz csr\n",
        "mat = pt_df.values\n",
        "mat = csr_matrix(mat)"
      ]
    },
    {
      "cell_type": "markdown",
      "source": [
        "Se establece una función en donde normaliza las entradas de \"pred_reating\""
      ],
      "metadata": {
        "id": "4sR91MKeZbdw"
      },
      "id": "4sR91MKeZbdw"
    },
    {
      "cell_type": "code",
      "execution_count": null,
      "id": "15411d4b",
      "metadata": {
        "id": "15411d4b"
      },
      "outputs": [],
      "source": [
        "#Esta función normalizará la entrada pred_ratings\n",
        "def normalize(pred_ratings):\n",
        "    return (pred_ratings - pred_ratings.min()) / (pred_ratings.max() - pred_ratings.min())"
      ]
    },
    {
      "cell_type": "markdown",
      "source": [
        "La función generate_prediction_df realizará el cálculo de la descomposición de valor único de la matriz de entrada dados n_factores. Luego generará y normalizará las predicciones de calificación de los usuarios."
      ],
      "metadata": {
        "id": "3ENGdxJ4aDPq"
      },
      "id": "3ENGdxJ4aDPq"
    },
    {
      "cell_type": "code",
      "execution_count": null,
      "id": "e8568d3f",
      "metadata": {
        "id": "e8568d3f"
      },
      "outputs": [],
      "source": [
        "def generate_prediction_df(mat, pt_df, n_factors):\n",
        "    '''\n",
        "    params:\n",
        "        mat (CSR Matrix) : matriz scipy csr correspondiente a la tabla dinámica (pt_df)\n",
        "        pt_df (DataFrame) : pandas dataframe que es una tabla dinámica\n",
        "        n_factors (Integer) : Number of singular values and vectors to compute. \n",
        "                              Must be 1 <= n_factors < min(mat.shape). \n",
        "    '''\n",
        "    if not 1 <= n_factors < min(mat.shape):\n",
        "        raise ValueError(\"Must be 1 <= n_factors < min(mat.shape)\")\n",
        "        \n",
        "    # factorización de matrices\n",
        "    u, s, v = svds(mat, k = n_factors)\n",
        "    s = np.diag(s)\n",
        "\n",
        "    # calcular las calificaciones de pred\n",
        "    pred_ratings = np.dot(np.dot(u, s), v) \n",
        "    pred_ratings = normalize(pred_ratings)\n",
        "    \n",
        "    # convertir a df\n",
        "    pred_df = pd.DataFrame(\n",
        "        pred_ratings,\n",
        "        columns = pt_df.columns,\n",
        "        index = list(pt_df.index)\n",
        "    ).transpose()\n",
        "    return pred_df"
      ]
    },
    {
      "cell_type": "markdown",
      "source": [
        "Se verifica el tiempo que toma para realizar la predición "
      ],
      "metadata": {
        "id": "htXRwqVkbnJj"
      },
      "id": "htXRwqVkbnJj"
    },
    {
      "cell_type": "code",
      "execution_count": null,
      "id": "b0f47b08",
      "metadata": {
        "colab": {
          "base_uri": "https://localhost:8080/"
        },
        "id": "b0f47b08",
        "outputId": "07dbf52e-eb2a-464c-ed15-2dd0c9b52e53"
      },
      "outputs": [
        {
          "output_type": "stream",
          "name": "stdout",
          "text": [
            "CPU times: user 1.35 s, sys: 750 ms, total: 2.1 s\n",
            "Wall time: 1.36 s\n"
          ]
        }
      ],
      "source": [
        "%time pred_df = generate_prediction_df(mat, pt_df, 10)"
      ]
    },
    {
      "cell_type": "markdown",
      "source": [
        "Con los parámetros de entrada de \"usr_id\" y \"pred_df\", la función realizará recomendaciones al usuario."
      ],
      "metadata": {
        "id": "kjeFiC3GcKgd"
      },
      "id": "kjeFiC3GcKgd"
    },
    {
      "cell_type": "code",
      "execution_count": null,
      "id": "def9b4ad",
      "metadata": {
        "id": "def9b4ad"
      },
      "outputs": [],
      "source": [
        "def recommend_items(pred_df, usr_id, n_recs):\n",
        "    '''\n",
        "    params:\n",
        "        pred_df (DataFrame) : generado a partir de la función `generate_prediction_df` \n",
        "        usr_id (Integer) : Se refiere al usuario para el que desea obtener recomendaciones de artículos\n",
        "        n_recs (Integer) : El número de recomendaciones que desea para este usuario\n",
        "    '''\n",
        "    usr_pred = pred_df[usr_id].sort_values(ascending = False).reset_index().rename(columns = {usr_id : 'sim'})\n",
        "    rec_df = usr_pred.sort_values(by = 'sim', ascending = False).head(n_recs)\n",
        "    return rec_df"
      ]
    },
    {
      "cell_type": "markdown",
      "source": [
        "Se realiza las recomendaciones correctamente para usuario 5 con 4 recomendaciones solicitadas para el mismo.  "
      ],
      "metadata": {
        "id": "cRJfPegtdLT0"
      },
      "id": "cRJfPegtdLT0"
    },
    {
      "cell_type": "code",
      "execution_count": null,
      "id": "916d3e60",
      "metadata": {
        "colab": {
          "base_uri": "https://localhost:8080/",
          "height": 175
        },
        "id": "916d3e60",
        "outputId": "ad4f309b-8fdd-49a0-c86e-216ef5f71ca0"
      },
      "outputs": [
        {
          "output_type": "execute_result",
          "data": {
            "text/html": [
              "\n",
              "  <div id=\"df-693297de-e9fc-4cab-9d0d-6c2bfab7cd6e\">\n",
              "    <div class=\"colab-df-container\">\n",
              "      <div>\n",
              "<style scoped>\n",
              "    .dataframe tbody tr th:only-of-type {\n",
              "        vertical-align: middle;\n",
              "    }\n",
              "\n",
              "    .dataframe tbody tr th {\n",
              "        vertical-align: top;\n",
              "    }\n",
              "\n",
              "    .dataframe thead th {\n",
              "        text-align: right;\n",
              "    }\n",
              "</style>\n",
              "<table border=\"1\" class=\"dataframe\">\n",
              "  <thead>\n",
              "    <tr style=\"text-align: right;\">\n",
              "      <th></th>\n",
              "      <th>book_id</th>\n",
              "      <th>sim</th>\n",
              "    </tr>\n",
              "  </thead>\n",
              "  <tbody>\n",
              "    <tr>\n",
              "      <th>0</th>\n",
              "      <td>1108</td>\n",
              "      <td>0.143244</td>\n",
              "    </tr>\n",
              "    <tr>\n",
              "      <th>1</th>\n",
              "      <td>1839</td>\n",
              "      <td>0.140945</td>\n",
              "    </tr>\n",
              "    <tr>\n",
              "      <th>2</th>\n",
              "      <td>725</td>\n",
              "      <td>0.140516</td>\n",
              "    </tr>\n",
              "    <tr>\n",
              "      <th>3</th>\n",
              "      <td>1897</td>\n",
              "      <td>0.140497</td>\n",
              "    </tr>\n",
              "  </tbody>\n",
              "</table>\n",
              "</div>\n",
              "      <button class=\"colab-df-convert\" onclick=\"convertToInteractive('df-693297de-e9fc-4cab-9d0d-6c2bfab7cd6e')\"\n",
              "              title=\"Convert this dataframe to an interactive table.\"\n",
              "              style=\"display:none;\">\n",
              "        \n",
              "  <svg xmlns=\"http://www.w3.org/2000/svg\" height=\"24px\"viewBox=\"0 0 24 24\"\n",
              "       width=\"24px\">\n",
              "    <path d=\"M0 0h24v24H0V0z\" fill=\"none\"/>\n",
              "    <path d=\"M18.56 5.44l.94 2.06.94-2.06 2.06-.94-2.06-.94-.94-2.06-.94 2.06-2.06.94zm-11 1L8.5 8.5l.94-2.06 2.06-.94-2.06-.94L8.5 2.5l-.94 2.06-2.06.94zm10 10l.94 2.06.94-2.06 2.06-.94-2.06-.94-.94-2.06-.94 2.06-2.06.94z\"/><path d=\"M17.41 7.96l-1.37-1.37c-.4-.4-.92-.59-1.43-.59-.52 0-1.04.2-1.43.59L10.3 9.45l-7.72 7.72c-.78.78-.78 2.05 0 2.83L4 21.41c.39.39.9.59 1.41.59.51 0 1.02-.2 1.41-.59l7.78-7.78 2.81-2.81c.8-.78.8-2.07 0-2.86zM5.41 20L4 18.59l7.72-7.72 1.47 1.35L5.41 20z\"/>\n",
              "  </svg>\n",
              "      </button>\n",
              "      \n",
              "  <style>\n",
              "    .colab-df-container {\n",
              "      display:flex;\n",
              "      flex-wrap:wrap;\n",
              "      gap: 12px;\n",
              "    }\n",
              "\n",
              "    .colab-df-convert {\n",
              "      background-color: #E8F0FE;\n",
              "      border: none;\n",
              "      border-radius: 50%;\n",
              "      cursor: pointer;\n",
              "      display: none;\n",
              "      fill: #1967D2;\n",
              "      height: 32px;\n",
              "      padding: 0 0 0 0;\n",
              "      width: 32px;\n",
              "    }\n",
              "\n",
              "    .colab-df-convert:hover {\n",
              "      background-color: #E2EBFA;\n",
              "      box-shadow: 0px 1px 2px rgba(60, 64, 67, 0.3), 0px 1px 3px 1px rgba(60, 64, 67, 0.15);\n",
              "      fill: #174EA6;\n",
              "    }\n",
              "\n",
              "    [theme=dark] .colab-df-convert {\n",
              "      background-color: #3B4455;\n",
              "      fill: #D2E3FC;\n",
              "    }\n",
              "\n",
              "    [theme=dark] .colab-df-convert:hover {\n",
              "      background-color: #434B5C;\n",
              "      box-shadow: 0px 1px 3px 1px rgba(0, 0, 0, 0.15);\n",
              "      filter: drop-shadow(0px 1px 2px rgba(0, 0, 0, 0.3));\n",
              "      fill: #FFFFFF;\n",
              "    }\n",
              "  </style>\n",
              "\n",
              "      <script>\n",
              "        const buttonEl =\n",
              "          document.querySelector('#df-693297de-e9fc-4cab-9d0d-6c2bfab7cd6e button.colab-df-convert');\n",
              "        buttonEl.style.display =\n",
              "          google.colab.kernel.accessAllowed ? 'block' : 'none';\n",
              "\n",
              "        async function convertToInteractive(key) {\n",
              "          const element = document.querySelector('#df-693297de-e9fc-4cab-9d0d-6c2bfab7cd6e');\n",
              "          const dataTable =\n",
              "            await google.colab.kernel.invokeFunction('convertToInteractive',\n",
              "                                                     [key], {});\n",
              "          if (!dataTable) return;\n",
              "\n",
              "          const docLinkHtml = 'Like what you see? Visit the ' +\n",
              "            '<a target=\"_blank\" href=https://colab.research.google.com/notebooks/data_table.ipynb>data table notebook</a>'\n",
              "            + ' to learn more about interactive tables.';\n",
              "          element.innerHTML = '';\n",
              "          dataTable['output_type'] = 'display_data';\n",
              "          await google.colab.output.renderOutput(dataTable, element);\n",
              "          const docLink = document.createElement('div');\n",
              "          docLink.innerHTML = docLinkHtml;\n",
              "          element.appendChild(docLink);\n",
              "        }\n",
              "      </script>\n",
              "    </div>\n",
              "  </div>\n",
              "  "
            ],
            "text/plain": [
              "   book_id       sim\n",
              "0     1108  0.143244\n",
              "1     1839  0.140945\n",
              "2      725  0.140516\n",
              "3     1897  0.140497"
            ]
          },
          "metadata": {},
          "execution_count": 11
        }
      ],
      "source": [
        "recommend_items(pred_df, 5, 4)"
      ]
    },
    {
      "cell_type": "markdown",
      "id": "aad562f7",
      "metadata": {
        "id": "aad562f7"
      },
      "source": [
        "#Método 2 - basado en usuarios"
      ]
    },
    {
      "cell_type": "markdown",
      "source": [
        "En cambio, este método se recomienda en base a similitudes que encuentra entre el usuario actual con otro. Para realizar este método también se genera una tabla dinámica con \"reader_id\" en el index, \"book_id\" en la columna y los valores vendrían siendo los \"book_rating\" que son las calificaciones"
      ],
      "metadata": {
        "id": "ZWEStcsCeFOw"
      },
      "id": "ZWEStcsCeFOw"
    },
    {
      "cell_type": "code",
      "execution_count": null,
      "id": "97afdd22",
      "metadata": {
        "id": "97afdd22"
      },
      "outputs": [],
      "source": [
        "pt_df = df.pivot_table(\n",
        "    columns = 'book_id', \n",
        "    index = 'author_id', \n",
        "    values = 'book_rating',\n",
        ").fillna(0)\n"
      ]
    },
    {
      "cell_type": "markdown",
      "source": [
        "La función find_similar_readers() se encargará de encontrar los lectores similares al \"lector_id\" que se especifica por el usuario. "
      ],
      "metadata": {
        "id": "JJtNvB0PeeJ2"
      },
      "id": "JJtNvB0PeeJ2"
    },
    {
      "cell_type": "code",
      "execution_count": null,
      "id": "9007c257",
      "metadata": {
        "id": "9007c257"
      },
      "outputs": [],
      "source": [
        "def find_similar_readers(pt_df, reader_id, n_recs):\n",
        "    '''\n",
        "    params:\n",
        "        pred_df (DataFrame) : generado a partir de la función `generate_prediction_df` \n",
        "        usr_id (Integer) : Se refiere al usuario para el que desea obtener recomendaciones de artículos\n",
        "        n_recs (Integer) : El número de recomendaciones que desea para este usuario\n",
        "    '''\n",
        "    \n",
        "    # lector separado de interés y todos los demás lectores\n",
        "    reader = pt_df[pt_df.index == reader_id]\n",
        "    other_readers = pt_df[pt_df.index != reader_id]\n",
        "\n",
        "    # obtener la similitud del lector actual y todos los demás lectores\n",
        "    sim = cosine_similarity(reader, other_readers)[0].tolist()\n",
        "    idx = other_readers.index.tolist()\n",
        "\n",
        "    # crear un diccionario de similitud para este usuario con todos los demás usuarios\n",
        "    idx_sim = dict(zip(idx, sim))\n",
        "    idx_sim = sorted(idx_sim.items(), key=lambda x: x[1], reverse=True)\n",
        "\n",
        "    similar_readers = idx_sim[:n_recs]\n",
        "    readers = [rdr[0] for rdr in similar_readers]\n",
        "\n",
        "    return readers"
      ]
    },
    {
      "cell_type": "markdown",
      "source": [
        "La función da como resultado que el usuario 226 tiene similitudes con los usuarios 319, 191, 145, 165 y 212. Se observa solo 5 usuarios porque solo se le solicitó que encontrará 5 y la función devuelve a los 5 primeros que analizó y encontró."
      ],
      "metadata": {
        "id": "a--wqhnnftJu"
      },
      "id": "a--wqhnnftJu"
    },
    {
      "cell_type": "code",
      "execution_count": null,
      "id": "8e8faeb3",
      "metadata": {
        "colab": {
          "base_uri": "https://localhost:8080/"
        },
        "id": "8e8faeb3",
        "outputId": "89995521-f861-4a71-bc84-4d530c527904"
      },
      "outputs": [
        {
          "output_type": "execute_result",
          "data": {
            "text/plain": [
              "[319, 191, 145, 162, 212]"
            ]
          },
          "metadata": {},
          "execution_count": 14
        }
      ],
      "source": [
        "find_similar_readers(pt_df = pt_df, reader_id = 226, n_recs = 5)"
      ]
    },
    {
      "cell_type": "markdown",
      "id": "59917105",
      "metadata": {
        "id": "59917105"
      },
      "source": [
        "#Método 3 - híbrido"
      ]
    },
    {
      "cell_type": "markdown",
      "source": [
        "Como su nombre mismo lo dice, este método es una combinación del filtrado colaborativo basado en usuarios y elementos. Para realizar este método se declara una variable para que guarde el dataFrame con los elementos de \"reader_id\", \"book_id\", \"book_rating \""
      ],
      "metadata": {
        "id": "haKA-hRsiK6q"
      },
      "id": "haKA-hRsiK6q"
    },
    {
      "cell_type": "code",
      "execution_count": null,
      "id": "bf383b1a",
      "metadata": {
        "id": "bf383b1a"
      },
      "outputs": [],
      "source": [
        "rdf = df[['reader_id', 'book_id', 'book_rating']]"
      ]
    },
    {
      "cell_type": "markdown",
      "source": [
        "Se realiza la lectura al dataset y se divide el conjunto de datos en dos partes, el primero es para realizar el entrenamiento y el segundo para realizar la pruebas. "
      ],
      "metadata": {
        "id": "0psY35GajKgO"
      },
      "id": "0psY35GajKgO"
    },
    {
      "cell_type": "code",
      "execution_count": null,
      "id": "ea370387",
      "metadata": {
        "id": "ea370387"
      },
      "outputs": [],
      "source": [
        "#Lectura del conjunto de datos\n",
        "reader = Reader(rating_scale=(1, 5))\n",
        "data = Dataset.load_from_df(rdf, reader)"
      ]
    },
    {
      "cell_type": "code",
      "execution_count": null,
      "id": "09286b97",
      "metadata": {
        "id": "09286b97"
      },
      "outputs": [],
      "source": [
        "#Dividir el conjunto de datos\n",
        "trainset, testset = train_test_split(data, test_size=0.3,random_state=10)"
      ]
    },
    {
      "cell_type": "markdown",
      "source": [
        "\n",
        "Para cambiar de filtrado colaborativo basado en usuario a basado en elemento se debe poner \"True\" en vez de \"False\" en user_based. "
      ],
      "metadata": {
        "id": "i7nhTyBFj40r"
      },
      "id": "i7nhTyBFj40r"
    },
    {
      "cell_type": "code",
      "execution_count": null,
      "id": "c9b43bf0",
      "metadata": {
        "colab": {
          "base_uri": "https://localhost:8080/"
        },
        "id": "c9b43bf0",
        "outputId": "0818a943-7576-429d-9169-46f9aa29376d"
      },
      "outputs": [
        {
          "output_type": "stream",
          "name": "stdout",
          "text": [
            "Estimating biases using als...\n",
            "Computing the pearson_baseline similarity matrix...\n",
            "Done computing similarity matrix.\n"
          ]
        },
        {
          "output_type": "execute_result",
          "data": {
            "text/plain": [
              "<surprise.prediction_algorithms.knns.KNNWithMeans at 0x7f0213001250>"
            ]
          },
          "metadata": {},
          "execution_count": 18
        }
      ],
      "source": [
        "# Use verdadero/falso basado en usuario para cambiar entre filtrado colaborativo basado en usuario o basado en elementos\n",
        "algo = KNNWithMeans(k=5, sim_options={'name': 'pearson_baseline', 'user_based': False})\n",
        "algo.fit(trainset)"
      ]
    },
    {
      "cell_type": "code",
      "execution_count": null,
      "id": "f7bdccd0",
      "metadata": {
        "id": "f7bdccd0"
      },
      "outputs": [],
      "source": [
        "# ejecutar el modelo entrenado contra el conjunto de pruebas\n",
        "test_pred = algo.test(testset)"
      ]
    },
    {
      "cell_type": "markdown",
      "source": [
        "Tiene un error de 2.9306 entre la predición y el valor conocido. "
      ],
      "metadata": {
        "id": "fVlbQY07qdPW"
      },
      "id": "fVlbQY07qdPW"
    },
    {
      "cell_type": "code",
      "execution_count": null,
      "id": "0ae91798",
      "metadata": {
        "colab": {
          "base_uri": "https://localhost:8080/"
        },
        "id": "0ae91798",
        "outputId": "35393167-d07a-4127-ecfd-728d8157f982"
      },
      "outputs": [
        {
          "output_type": "stream",
          "name": "stdout",
          "text": [
            "RMSE: 2.9306\n"
          ]
        },
        {
          "output_type": "execute_result",
          "data": {
            "text/plain": [
              "2.9306185721359865"
            ]
          },
          "metadata": {},
          "execution_count": 20
        }
      ],
      "source": [
        "# obtener RMSE\n",
        "accuracy.rmse(test_pred, verbose=True)"
      ]
    },
    {
      "cell_type": "code",
      "execution_count": null,
      "id": "68751624",
      "metadata": {
        "colab": {
          "base_uri": "https://localhost:8080/"
        },
        "id": "68751624",
        "outputId": "bec5844e-fc0d-46cb-fd9b-cce5d0653998"
      },
      "outputs": [
        {
          "output_type": "execute_result",
          "data": {
            "text/plain": [
              "Prediction(uid=10, iid=43, r_ui=None, est=5, details={'actual_k': 0, 'was_impossible': False})"
            ]
          },
          "metadata": {},
          "execution_count": 21
        }
      ],
      "source": [
        "algo.predict(uid = 10, iid = 43)"
      ]
    }
  ],
  "metadata": {
    "kernelspec": {
      "display_name": "Python 3",
      "language": "python",
      "name": "python3"
    },
    "language_info": {
      "codemirror_mode": {
        "name": "ipython",
        "version": 3
      },
      "file_extension": ".py",
      "mimetype": "text/x-python",
      "name": "python",
      "nbconvert_exporter": "python",
      "pygments_lexer": "ipython3",
      "version": "3.6.10"
    },
    "colab": {
      "name": "Filtración_colaborativa_Lab2.ipynb",
      "provenance": []
    }
  },
  "nbformat": 4,
  "nbformat_minor": 5
}